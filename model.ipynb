{
 "cells": [
  {
   "cell_type": "code",
   "execution_count": 5,
   "metadata": {},
   "outputs": [],
   "source": [
    "import torch\n",
    "from transformers import AutoModelForSpeechSeq2Seq, AutoProcessor, pipeline\n",
    "from datasets import load_dataset\n",
    "\n",
    "\n",
    "device = \"cuda:0\" if torch.cuda.is_available() else \"cpu\"\n",
    "torch_dtype = torch.float16 if torch.cuda.is_available() else torch.float32\n",
    "\n",
    "model_id = \"openai/whisper-large-v3\"\n",
    "\n",
    "model = AutoModelForSpeechSeq2Seq.from_pretrained(\n",
    "    model_id, torch_dtype=torch_dtype, low_cpu_mem_usage=True, use_safetensors=True\n",
    ")\n"
   ]
  },
  {
   "cell_type": "code",
   "execution_count": 2,
   "metadata": {},
   "outputs": [],
   "source": [
    "# model.to(device)\n",
    "\n",
    "# processor = AutoProcessor.from_pretrained(model_id)\n",
    "\n",
    "# pipe = pipeline(\n",
    "#     \"automatic-speech-recognition\",\n",
    "#     model=model,\n",
    "#     tokenizer=processor.tokenizer,\n",
    "#     feature_extractor=processor.feature_extractor,\n",
    "#     max_new_tokens=128,\n",
    "#     chunk_length_s=30,\n",
    "#     batch_size=16,\n",
    "#     return_timestamps=True,\n",
    "#     torch_dtype=torch_dtype,\n",
    "#     device=device,\n",
    "# )\n",
    "\n",
    "# # save model\n",
    "# import pickle\n",
    "# f = open('./model/whisper.pkl', 'wb')\n",
    "# pickle.dump(model, f)\n",
    "# f.close()\n",
    "\n",
    "# # save processor\n",
    "# f = open('./model/processor.pkl', 'wb')\n",
    "# pickle.dump(processor, f)\n",
    "# f.close()\n",
    "\n",
    "# # save pipeline\n",
    "# f = open('./model/pipeline.pkl', 'wb')\n",
    "# pickle.dump(pipe, f)\n",
    "# f.close()"
   ]
  },
  {
   "cell_type": "code",
   "execution_count": 7,
   "metadata": {},
   "outputs": [],
   "source": [
    "import pickle\n",
    "f = open('./whisper-api/models/whisper.pkl', 'rb')\n",
    "model = pickle.load(f)\n",
    "f.close()\n",
    "\n",
    "# save processor\n",
    "f = open('./whisper-api/models/processor.pkl', 'rb')\n",
    "processor = pickle.load(f)\n",
    "f.close()\n",
    "\n",
    "# save pipeline\n",
    "f = open('./whisper-api/models/pipeline.pkl', 'rb')\n",
    "pipe = pickle.load(f)\n",
    "f.close()"
   ]
  },
  {
   "cell_type": "code",
   "execution_count": 12,
   "metadata": {},
   "outputs": [
    {
     "name": "stderr",
     "output_type": "stream",
     "text": [
      "ffmpeg version 6.0 Copyright (c) 2000-2023 the FFmpeg developers\n",
      "  built with Apple clang version 14.0.3 (clang-1403.0.22.14.1)\n",
      "  configuration: --prefix=/opt/homebrew/Cellar/ffmpeg/6.0_2 --enable-shared --enable-pthreads --enable-version3 --cc=clang --host-cflags= --host-ldflags= --enable-ffplay --enable-gnutls --enable-gpl --enable-libaom --enable-libaribb24 --enable-libbluray --enable-libdav1d --enable-libjxl --enable-libmp3lame --enable-libopus --enable-librav1e --enable-librist --enable-librubberband --enable-libsnappy --enable-libsrt --enable-libsvtav1 --enable-libtesseract --enable-libtheora --enable-libvidstab --enable-libvmaf --enable-libvorbis --enable-libvpx --enable-libwebp --enable-libx264 --enable-libx265 --enable-libxml2 --enable-libxvid --enable-lzma --enable-libfontconfig --enable-libfreetype --enable-frei0r --enable-libass --enable-libopencore-amrnb --enable-libopencore-amrwb --enable-libopenjpeg --enable-libspeex --enable-libsoxr --enable-libzmq --enable-libzimg --disable-libjack --disable-indev=jack --enable-videotoolbox --enable-audiotoolbox --enable-neon\n",
      "  libavutil      58.  2.100 / 58.  2.100\n",
      "  libavcodec     60.  3.100 / 60.  3.100\n",
      "  libavformat    60.  3.100 / 60.  3.100\n",
      "  libavdevice    60.  1.100 / 60.  1.100\n",
      "  libavfilter     9.  3.100 /  9.  3.100\n",
      "  libswscale      7.  1.100 /  7.  1.100\n",
      "  libswresample   4. 10.100 /  4. 10.100\n",
      "  libpostproc    57.  1.100 / 57.  1.100\n",
      "Input #0, mov,mp4,m4a,3gp,3g2,mj2, from './sample_data/HowtoReduceNighttimeUrination_Dr.AndrewHuberman.mp4':\n",
      "  Metadata:\n",
      "    major_brand     : mp42\n",
      "    minor_version   : 0\n",
      "    compatible_brands: isommp42\n",
      "    creation_time   : 2023-10-26T16:15:58.000000Z\n",
      "  Duration: 00:05:23.43, start: 0.000000, bitrate: 218 kb/s\n",
      "  Stream #0:0[0x1](und): Video: h264 (Main) (avc1 / 0x31637661), yuv420p(tv, bt709, progressive), 640x360 [SAR 1:1 DAR 16:9], 86 kb/s, 29.97 fps, 29.97 tbr, 30k tbn (default)\n",
      "    Metadata:\n",
      "      creation_time   : 2023-10-26T16:15:58.000000Z\n",
      "      handler_name    : ISO Media file produced by Google Inc. Created on: 10/26/2023.\n",
      "      vendor_id       : [0][0][0][0]\n",
      "  Stream #0:1[0x2](eng): Audio: aac (LC) (mp4a / 0x6134706D), 44100 Hz, stereo, fltp, 128 kb/s (default)\n",
      "    Metadata:\n",
      "      creation_time   : 2023-10-26T16:15:58.000000Z\n",
      "      handler_name    : ISO Media file produced by Google Inc. Created on: 10/26/2023.\n",
      "      vendor_id       : [0][0][0][0]\n",
      "Stream mapping:\n",
      "  Stream #0:1 -> #0:0 (aac (native) -> mp3 (libmp3lame))\n",
      "Press [q] to stop, [?] for help\n",
      "Output #0, mp3, to './sample_data/HowtoReduceNighttimeUrination_Dr.AndrewHuberman.mp3':\n",
      "  Metadata:\n",
      "    major_brand     : mp42\n",
      "    minor_version   : 0\n",
      "    compatible_brands: isommp42\n",
      "    TSSE            : Lavf60.3.100\n",
      "  Stream #0:0(eng): Audio: mp3, 44100 Hz, stereo, fltp, 400 kb/s (default)\n",
      "    Metadata:\n",
      "      creation_time   : 2023-10-26T16:15:58.000000Z\n",
      "      handler_name    : ISO Media file produced by Google Inc. Created on: 10/26/2023.\n",
      "      vendor_id       : [0][0][0][0]\n",
      "      encoder         : Lavc60.3.100 libmp3lame\n",
      "size=    8704kB time=00:03:43.71 bitrate= 318.7kbits/s speed= 149x       \r"
     ]
    },
    {
     "name": "stdout",
     "output_type": "stream",
     "text": [
      "True\n"
     ]
    },
    {
     "name": "stderr",
     "output_type": "stream",
     "text": [
      "size=   12637kB time=00:05:23.42 bitrate= 320.1kbits/s speed= 148x    \n",
      "video:0kB audio:12636kB subtitle:0kB other streams:0kB global headers:0kB muxing overhead: 0.009127%\n"
     ]
    }
   ],
   "source": [
    "import os\n",
    "import subprocess\n",
    "\n",
    "infile_path = './sample_data/HowtoReduceNighttimeUrination_Dr.AndrewHuberman.mp4'\n",
    "outfile_path = './sample_data/HowtoReduceNighttimeUrination_Dr.AndrewHuberman.mp3'\n",
    "\n",
    "\n",
    "command = f'ffmpeg -i {infile_path}' +\\\n",
    "        f' -ab 400k ' +\\\n",
    "        f'-ar 44100 ' +\\\n",
    "        f'-ac 2 ' +\\\n",
    "        f'-vn -y ' +\\\n",
    "        f'{outfile_path}'\n",
    "\n",
    "success = False\n",
    "try:\n",
    "    subprocess.run(command, shell=True, check=True)\n",
    "    # video = VideoFileClip(infile_path)\n",
    "    # # extract the audio\n",
    "    # audio = video.audio\n",
    "    # audio.write_audiofile(outfile_path)\n",
    "    success = True\n",
    "except Exception as e:\n",
    "    print(\n",
    "        f'Failed to convert {os.path.basename(infile_path)} to audio file {outfile_path}')\n",
    "    success = False\n",
    "\n",
    "print(success)"
   ]
  },
  {
   "cell_type": "code",
   "execution_count": 13,
   "metadata": {},
   "outputs": [
    {
     "name": "stdout",
     "output_type": "stream",
     "text": [
      " You need about eight ounces or 240 milliliters of fluid per hour for the first 10 hours of your day after waking. Now, why did I say for the first 10 hours? Well, it turns out that the filtration of fluids from your body, which is accomplished of course, by your kidneys and by way of your bladder and the excretion of fluid out your urethra, so-called urination, is strongly, strongly circadian dependent, meaning the cells of your body and the excretion of fluid out urethra, so-called urination, is strongly, strongly circadian dependent, meaning the cells of your kidney and the cells even of your gut, in fact, all the cells of your body, but especially the cells of your kidney, which filter the fluid that comes into your body and that makes certain hormones like vasopressin, which is anti-diuretic hormone, all of that functioning of the kidney is under strong regulation by so-called circadian clock genes. Circadian clock genes are genes that are expressed in every cell, but that in certain cells of the body very strongly impact whether or not that organ, in this case, the kidney, is going to be activated, meaning functioning, at a very high level or at a reduced level. And we can make all of this very simple by simply stating what's contained in this beautiful review that I'll provide a link to if you want to learn more, called Circadian Rhythms in the Kidney. And basically what is known is that for the first 10 hours after waking, your kidney is filtering fluid within your body at a very rapid rate. There are a number of different cell types that do that, but they are basically taking that fluid, pulling out any contaminants, using hormones such as antidiuretic hormone, vasopressin to adjust whether or not you're going to hold onto fluid or release more fluid from your body in the form of urine, depending on the salt concentration, depending on how much fluid you need, your workout put, the conditions you're in, all of that. However, at about 10 hours after waking, your kidney really starts to reduce its overall level of functioning. Now that doesn't mean that your kidney cannot filter fluid 11 or 12 or 16 hours after waking, but it becomes far less efficient at doing so. And thank goodness it does, because you do not want your kidney filtering fluid at the same rate at midnight, assuming you wake up at say seven or eight or 9 a.m., that it was filtering fluid at 10 a.m. In fact, we can say that if you want to reduce your nighttime waking in order to urinate, which is a common, common question and concern that many people have, how can I avoid waking up in the middle of the night to urinate? And there I say, it's perfectly normal to wake up once, maybe twice each night to urinate. But if you want to reduce the number of times that you wake up in order to urinate across the night, maybe even make that number zero times, you will greatly benefit by doing three things. First of all, make sure that you're hydrating sufficiently during the daytime. That will ensure that you are not excessively thirsty in the evening and therefore consuming a lot more fluid. Second, and related to that first point, is that you do want to reduce your fluid intake at night, provided you hydrated sufficiently throughout the day. And believe it or not, the rate at which fluid moves from your gut and into the cells and tissues of your body, and then from your bladder into urine is determined not just by the volume of fluid you ingest, but also the rate at which you ingest that fluid. And you might be thinking, that's crazy. That makes no sense at all, right? If I drink a ton of fluid slowly, doesn't it still mean that I'm going to urinate a ton? Yes and no. It also stands to reason that you might ask, if I ingest very little fluid, but I do it very fast, is it going to be the case that I'm going to urinate it out very quickly? Well, yes and no. The point is that the fluid filtration systems of your body that range from the gut to the bladder and include the kidney, of course, depend not just on the volume, but on the rate of fluid that you ingest. Because of those mechanosensors that we talked about earlier, if you gulp down a bunch of fluids, you are going to excrete those fluids more quickly than if you sip them slowly. Excuse me, sip them slowly. So here's what I recommend. Throughout the day when you're trying to get your adequate yield of water or other beverages, feel free to gulp that fluid or sip it. I'm a gulper, not a sipper, but many of you are going to be sippers, not gulpers. Consume fluid at the rate that feels right to you, but feel comfortable gulping that fluid. However, in the evening, if you are somebody who has challenges with waking up excessively in the middle of the night, reduce your fluid intake, provided you've hydrated properly throughout the day. And I suggest consuming no more than five, maybe eight ounces of fluid between the time of 10 hours after waking and when you go to sleep. Again, if you're very thirsty or you're under hydrated or it's very hot, feel free to ingest more fluid, please. But most people will find that if they reduce their fluid intake to about five ounces or less of fluid in that later part of the day, after 10 hours of having woken up and before sleep, and they sip those beverages as opposed to gulping them, that they will have fewer bouts of waking up in the middle of the night to go to the restroom and ideally zero.\n"
     ]
    }
   ],
   "source": [
    "# !pip install ffmpeg\n",
    "\n",
    "# dataset = load_dataset(\"distil-whisper/librispeech_long\", \"clean\", split=\"validation\")\n",
    "# sample = dataset[0][\"audio\"]\n",
    "# result = pipe(sample)\n",
    "\n",
    "result = pipe(outfile_path, generate_kwargs={\"task\": \"translate\"})\n",
    "print(result[\"text\"])"
   ]
  },
  {
   "cell_type": "code",
   "execution_count": 14,
   "metadata": {},
   "outputs": [
    {
     "name": "stdout",
     "output_type": "stream",
     "text": [
      " You need about eight ounces or 240 milliliters of fluid per hour for the first 10 hours of your day after waking. Now, why did I say for the first 10 hours? Well, it turns out that the filtration of fluids from your body, which is accomplished of course, by your kidneys and by way of your bladder and the excretion of fluid out your urethra, so-called urination, is strongly, strongly circadian dependent, meaning the cells of your body and the excretion of fluid out urethra, so-called urination, is strongly, strongly circadian dependent, meaning the cells of your kidney and the cells even of your gut, in fact, all the cells of your body, but especially the cells of your kidney, which filter the fluid that comes into your body and that makes certain hormones like vasopressin, which is anti-diuretic hormone, all of that functioning of the kidney is under strong regulation by so-called circadian clock genes. Circadian clock genes are genes that are expressed in every cell, but that in certain cells of the body very strongly impact whether or not that organ, in this case, the kidney, is going to be activated, meaning functioning, at a very high level or at a reduced level. And we can make all of this very simple by simply stating what's contained in this beautiful review that I'll provide a link to if you want to learn more, called Circadian Rhythms in the Kidney. And basically what is known is that for the first 10 hours after waking, your kidney is filtering fluid within your body at a very rapid rate. There are a number of different cell types that do that, but they are basically taking that fluid, pulling out any contaminants, using hormones such as antidiuretic hormone, vasopressin to adjust whether or not you're going to hold onto fluid or release more fluid from your body in the form of urine, depending on the salt concentration, depending on how much fluid you need, your workout put, the conditions you're in, all of that. However, at about 10 hours after waking, your kidney really starts to reduce its overall level of functioning. Now that doesn't mean that your kidney cannot filter fluid 11 or 12 or 16 hours after waking, but it becomes far less efficient at doing so. And thank goodness it does, because you do not want your kidney filtering fluid at the same rate at midnight, assuming you wake up at say seven or eight or 9 a.m., that it was filtering fluid at 10 a.m. In fact, we can say that if you want to reduce your nighttime waking in order to urinate, which is a common, common question and concern that many people have, how can I avoid waking up in the middle of the night to urinate? And there I say, it's perfectly normal to wake up once, maybe twice each night to urinate. But if you want to reduce the number of times that you wake up in order to urinate across the night, maybe even make that number zero times, you will greatly benefit by doing three things. First of all, make sure that you're hydrating sufficiently during the daytime. That will ensure that you are not excessively thirsty in the evening and therefore consuming a lot more fluid. Second, and related to that first point, is that you do want to reduce your fluid intake at night, provided you hydrated sufficiently throughout the day. And believe it or not, the rate at which fluid moves from your gut and into the cells and tissues of your body, and then from your bladder into urine is determined not just by the volume of fluid you ingest, but also the rate at which you ingest that fluid. And you might be thinking, that's crazy. That makes no sense at all, right? If I drink a ton of fluid slowly, doesn't it still mean that I'm going to urinate a ton? Yes and no. It also stands to reason that you might ask, if I ingest very little fluid, but I do it very fast, is it going to be the case that I'm going to urinate it out very quickly? Well, yes and no. The point is that the fluid filtration systems of your body that range from the gut to the bladder and include the kidney, of course, depend not just on the volume, but on the rate of fluid that you ingest. Because of those mechanosensors that we talked about earlier, if you gulp down a bunch of fluids, you are going to excrete those fluids more quickly than if you sip them slowly. Excuse me, sip them slowly. So here's what I recommend. Throughout the day when you're trying to get your adequate yield of water or other beverages, feel free to gulp that fluid or sip it. I'm a gulper, not a sipper, but many of you are going to be sippers, not gulpers. Consume fluid at the rate that feels right to you, but feel comfortable gulping that fluid. However, in the evening, if you are somebody who has challenges with waking up excessively in the middle of the night, reduce your fluid intake, provided you've hydrated properly throughout the day. And I suggest consuming no more than five, maybe eight ounces of fluid between the time of 10 hours after waking and when you go to sleep. Again, if you're very thirsty or you're under hydrated or it's very hot, feel free to ingest more fluid, please. But most people will find that if they reduce their fluid intake to about five ounces or less of fluid in that later part of the day, after 10 hours of having woken up and before sleep, and they sip those beverages as opposed to gulping them, that they will have fewer bouts of waking up in the middle of the night to go to the restroom and ideally zero.\n"
     ]
    }
   ],
   "source": [
    "result = pipe(infile_path, generate_kwargs={\"task\": \"translate\"})\n",
    "print(result[\"text\"])"
   ]
  },
  {
   "cell_type": "code",
   "execution_count": 8,
   "metadata": {},
   "outputs": [],
   "source": []
  },
  {
   "cell_type": "code",
   "execution_count": null,
   "metadata": {},
   "outputs": [],
   "source": []
  }
 ],
 "metadata": {
  "kernelspec": {
   "display_name": "venv",
   "language": "python",
   "name": "venv"
  },
  "language_info": {
   "codemirror_mode": {
    "name": "ipython",
    "version": 3
   },
   "file_extension": ".py",
   "mimetype": "text/x-python",
   "name": "python",
   "nbconvert_exporter": "python",
   "pygments_lexer": "ipython3",
   "version": "3.11.3"
  },
  "orig_nbformat": 4
 },
 "nbformat": 4,
 "nbformat_minor": 2
}
