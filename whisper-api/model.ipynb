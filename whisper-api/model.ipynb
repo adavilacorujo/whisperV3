{
 "cells": [
  {
   "cell_type": "code",
   "execution_count": 2,
   "metadata": {},
   "outputs": [
    {
     "name": "stderr",
     "output_type": "stream",
     "text": [
      "Special tokens have been added in the vocabulary, make sure the associated word embeddings are fine-tuned or trained.\n"
     ]
    }
   ],
   "source": [
    "import torch\n",
    "from transformers import AutoModelForSpeechSeq2Seq, AutoProcessor\n",
    "\n",
    "\n",
    "device = \"cuda:0\" if torch.cuda.is_available() else \"cpu\"\n",
    "torch_dtype = torch.float16 if torch.cuda.is_available() else torch.float32\n",
    "\n",
    "model_id = \"openai/whisper-large-v3\"\n",
    "\n",
    "model = AutoModelForSpeechSeq2Seq.from_pretrained(\n",
    "    model_id, torch_dtype=torch_dtype, low_cpu_mem_usage=True, use_safetensors=True\n",
    ")\n",
    "\n",
    "processor = AutoProcessor.from_pretrained(model_id)\n",
    "\n",
    "# Save Models\n",
    "model.save_pretrained('./models/openai-whisper-large-v3')\n",
    "\n",
    "processor.save_pretrained('./models/openai-whisper-large-v3')\n"
   ]
  },
  {
   "cell_type": "code",
   "execution_count": 2,
   "metadata": {},
   "outputs": [],
   "source": [
    "# model.to(device)\n",
    "\n",
    "# processor = AutoProcessor.from_pretrained(model_id)\n",
    "\n",
    "# pipe = pipeline(\n",
    "#     \"automatic-speech-recognition\",\n",
    "#     model=model,\n",
    "#     tokenizer=processor.tokenizer,\n",
    "#     feature_extractor=processor.feature_extractor,\n",
    "#     max_new_tokens=128,\n",
    "#     chunk_length_s=30,\n",
    "#     batch_size=16,\n",
    "#     return_timestamps=True,\n",
    "#     torch_dtype=torch_dtype,\n",
    "#     device=device,\n",
    "# )\n",
    "\n",
    "# # save model\n",
    "# import pickle\n",
    "# f = open('./model/whisper.pkl', 'wb')\n",
    "# pickle.dump(model, f)\n",
    "# f.close()\n",
    "\n",
    "# # save processor\n",
    "# f = open('./model/processor.pkl', 'wb')\n",
    "# pickle.dump(processor, f)\n",
    "# f.close()\n",
    "\n",
    "# # save pipeline\n",
    "# f = open('./model/pipeline.pkl', 'wb')\n",
    "# pickle.dump(pipe, f)\n",
    "# f.close()"
   ]
  },
  {
   "cell_type": "code",
   "execution_count": 7,
   "metadata": {},
   "outputs": [],
   "source": [
    "import pickle\n",
    "f = open('./whisper-api/models/whisper.pkl', 'rb')\n",
    "model = pickle.load(f)\n",
    "f.close()\n",
    "\n",
    "# save processor\n",
    "f = open('./whisper-api/models/processor.pkl', 'rb')\n",
    "processor = pickle.load(f)\n",
    "f.close()\n",
    "\n",
    "# save pipeline\n",
    "f = open('./whisper-api/models/pipeline.pkl', 'rb')\n",
    "pipe = pickle.load(f)\n",
    "f.close()"
   ]
  },
  {
   "cell_type": "code",
   "execution_count": 13,
   "metadata": {},
   "outputs": [
    {
     "name": "stdout",
     "output_type": "stream",
     "text": [
      " You need about eight ounces or 240 milliliters of fluid per hour for the first 10 hours of your day after waking. Now, why did I say for the first 10 hours? Well, it turns out that the filtration of fluids from your body, which is accomplished of course, by your kidneys and by way of your bladder and the excretion of fluid out your urethra, so-called urination, is strongly, strongly circadian dependent, meaning the cells of your body and the excretion of fluid out urethra, so-called urination, is strongly, strongly circadian dependent, meaning the cells of your kidney and the cells even of your gut, in fact, all the cells of your body, but especially the cells of your kidney, which filter the fluid that comes into your body and that makes certain hormones like vasopressin, which is anti-diuretic hormone, all of that functioning of the kidney is under strong regulation by so-called circadian clock genes. Circadian clock genes are genes that are expressed in every cell, but that in certain cells of the body very strongly impact whether or not that organ, in this case, the kidney, is going to be activated, meaning functioning, at a very high level or at a reduced level. And we can make all of this very simple by simply stating what's contained in this beautiful review that I'll provide a link to if you want to learn more, called Circadian Rhythms in the Kidney. And basically what is known is that for the first 10 hours after waking, your kidney is filtering fluid within your body at a very rapid rate. There are a number of different cell types that do that, but they are basically taking that fluid, pulling out any contaminants, using hormones such as antidiuretic hormone, vasopressin to adjust whether or not you're going to hold onto fluid or release more fluid from your body in the form of urine, depending on the salt concentration, depending on how much fluid you need, your workout put, the conditions you're in, all of that. However, at about 10 hours after waking, your kidney really starts to reduce its overall level of functioning. Now that doesn't mean that your kidney cannot filter fluid 11 or 12 or 16 hours after waking, but it becomes far less efficient at doing so. And thank goodness it does, because you do not want your kidney filtering fluid at the same rate at midnight, assuming you wake up at say seven or eight or 9 a.m., that it was filtering fluid at 10 a.m. In fact, we can say that if you want to reduce your nighttime waking in order to urinate, which is a common, common question and concern that many people have, how can I avoid waking up in the middle of the night to urinate? And there I say, it's perfectly normal to wake up once, maybe twice each night to urinate. But if you want to reduce the number of times that you wake up in order to urinate across the night, maybe even make that number zero times, you will greatly benefit by doing three things. First of all, make sure that you're hydrating sufficiently during the daytime. That will ensure that you are not excessively thirsty in the evening and therefore consuming a lot more fluid. Second, and related to that first point, is that you do want to reduce your fluid intake at night, provided you hydrated sufficiently throughout the day. And believe it or not, the rate at which fluid moves from your gut and into the cells and tissues of your body, and then from your bladder into urine is determined not just by the volume of fluid you ingest, but also the rate at which you ingest that fluid. And you might be thinking, that's crazy. That makes no sense at all, right? If I drink a ton of fluid slowly, doesn't it still mean that I'm going to urinate a ton? Yes and no. It also stands to reason that you might ask, if I ingest very little fluid, but I do it very fast, is it going to be the case that I'm going to urinate it out very quickly? Well, yes and no. The point is that the fluid filtration systems of your body that range from the gut to the bladder and include the kidney, of course, depend not just on the volume, but on the rate of fluid that you ingest. Because of those mechanosensors that we talked about earlier, if you gulp down a bunch of fluids, you are going to excrete those fluids more quickly than if you sip them slowly. Excuse me, sip them slowly. So here's what I recommend. Throughout the day when you're trying to get your adequate yield of water or other beverages, feel free to gulp that fluid or sip it. I'm a gulper, not a sipper, but many of you are going to be sippers, not gulpers. Consume fluid at the rate that feels right to you, but feel comfortable gulping that fluid. However, in the evening, if you are somebody who has challenges with waking up excessively in the middle of the night, reduce your fluid intake, provided you've hydrated properly throughout the day. And I suggest consuming no more than five, maybe eight ounces of fluid between the time of 10 hours after waking and when you go to sleep. Again, if you're very thirsty or you're under hydrated or it's very hot, feel free to ingest more fluid, please. But most people will find that if they reduce their fluid intake to about five ounces or less of fluid in that later part of the day, after 10 hours of having woken up and before sleep, and they sip those beverages as opposed to gulping them, that they will have fewer bouts of waking up in the middle of the night to go to the restroom and ideally zero.\n"
     ]
    }
   ],
   "source": [
    "# !pip install ffmpeg\n",
    "\n",
    "# dataset = load_dataset(\"distil-whisper/librispeech_long\", \"clean\", split=\"validation\")\n",
    "# sample = dataset[0][\"audio\"]\n",
    "# result = pipe(sample)\n",
    "\n",
    "result = pipe(outfile_path, generate_kwargs={\"task\": \"translate\"})\n",
    "print(result[\"text\"])"
   ]
  },
  {
   "cell_type": "code",
   "execution_count": 14,
   "metadata": {},
   "outputs": [
    {
     "name": "stdout",
     "output_type": "stream",
     "text": [
      " You need about eight ounces or 240 milliliters of fluid per hour for the first 10 hours of your day after waking. Now, why did I say for the first 10 hours? Well, it turns out that the filtration of fluids from your body, which is accomplished of course, by your kidneys and by way of your bladder and the excretion of fluid out your urethra, so-called urination, is strongly, strongly circadian dependent, meaning the cells of your body and the excretion of fluid out urethra, so-called urination, is strongly, strongly circadian dependent, meaning the cells of your kidney and the cells even of your gut, in fact, all the cells of your body, but especially the cells of your kidney, which filter the fluid that comes into your body and that makes certain hormones like vasopressin, which is anti-diuretic hormone, all of that functioning of the kidney is under strong regulation by so-called circadian clock genes. Circadian clock genes are genes that are expressed in every cell, but that in certain cells of the body very strongly impact whether or not that organ, in this case, the kidney, is going to be activated, meaning functioning, at a very high level or at a reduced level. And we can make all of this very simple by simply stating what's contained in this beautiful review that I'll provide a link to if you want to learn more, called Circadian Rhythms in the Kidney. And basically what is known is that for the first 10 hours after waking, your kidney is filtering fluid within your body at a very rapid rate. There are a number of different cell types that do that, but they are basically taking that fluid, pulling out any contaminants, using hormones such as antidiuretic hormone, vasopressin to adjust whether or not you're going to hold onto fluid or release more fluid from your body in the form of urine, depending on the salt concentration, depending on how much fluid you need, your workout put, the conditions you're in, all of that. However, at about 10 hours after waking, your kidney really starts to reduce its overall level of functioning. Now that doesn't mean that your kidney cannot filter fluid 11 or 12 or 16 hours after waking, but it becomes far less efficient at doing so. And thank goodness it does, because you do not want your kidney filtering fluid at the same rate at midnight, assuming you wake up at say seven or eight or 9 a.m., that it was filtering fluid at 10 a.m. In fact, we can say that if you want to reduce your nighttime waking in order to urinate, which is a common, common question and concern that many people have, how can I avoid waking up in the middle of the night to urinate? And there I say, it's perfectly normal to wake up once, maybe twice each night to urinate. But if you want to reduce the number of times that you wake up in order to urinate across the night, maybe even make that number zero times, you will greatly benefit by doing three things. First of all, make sure that you're hydrating sufficiently during the daytime. That will ensure that you are not excessively thirsty in the evening and therefore consuming a lot more fluid. Second, and related to that first point, is that you do want to reduce your fluid intake at night, provided you hydrated sufficiently throughout the day. And believe it or not, the rate at which fluid moves from your gut and into the cells and tissues of your body, and then from your bladder into urine is determined not just by the volume of fluid you ingest, but also the rate at which you ingest that fluid. And you might be thinking, that's crazy. That makes no sense at all, right? If I drink a ton of fluid slowly, doesn't it still mean that I'm going to urinate a ton? Yes and no. It also stands to reason that you might ask, if I ingest very little fluid, but I do it very fast, is it going to be the case that I'm going to urinate it out very quickly? Well, yes and no. The point is that the fluid filtration systems of your body that range from the gut to the bladder and include the kidney, of course, depend not just on the volume, but on the rate of fluid that you ingest. Because of those mechanosensors that we talked about earlier, if you gulp down a bunch of fluids, you are going to excrete those fluids more quickly than if you sip them slowly. Excuse me, sip them slowly. So here's what I recommend. Throughout the day when you're trying to get your adequate yield of water or other beverages, feel free to gulp that fluid or sip it. I'm a gulper, not a sipper, but many of you are going to be sippers, not gulpers. Consume fluid at the rate that feels right to you, but feel comfortable gulping that fluid. However, in the evening, if you are somebody who has challenges with waking up excessively in the middle of the night, reduce your fluid intake, provided you've hydrated properly throughout the day. And I suggest consuming no more than five, maybe eight ounces of fluid between the time of 10 hours after waking and when you go to sleep. Again, if you're very thirsty or you're under hydrated or it's very hot, feel free to ingest more fluid, please. But most people will find that if they reduce their fluid intake to about five ounces or less of fluid in that later part of the day, after 10 hours of having woken up and before sleep, and they sip those beverages as opposed to gulping them, that they will have fewer bouts of waking up in the middle of the night to go to the restroom and ideally zero.\n"
     ]
    }
   ],
   "source": [
    "result = pipe(infile_path, generate_kwargs={\"task\": \"translate\"})\n",
    "print(result[\"text\"])"
   ]
  },
  {
   "cell_type": "markdown",
   "metadata": {},
   "source": [
    "## Seq2Seq Summarization using T5\n",
    "- https://huggingface.co/t5-small"
   ]
  },
  {
   "cell_type": "code",
   "execution_count": 18,
   "metadata": {},
   "outputs": [
    {
     "data": {
      "text/plain": [
       "\"summarize:  This explosion left all Puerto Rico dark in April. In August, one of the country's main hospitals was almost 20 hours without electricity. All this after the distribution of energy in Puerto Rico went to the hands of a private company. The government granted a multimillion-dollar contract to a company in the United States and Canada called Luma Energy, and they promised the people that the service would be better. But according to the government's metrics, now the shutdowns are longer. The result is students who do their assignments in the dark, in damaged beings and people who cannot connect their medical team at home. At the same time, the people Rican people have seen seven consecutive increases in the electricity bill, while the executives of Luma are charging salaries never seen before in the Puerto R Rico electric corporation. With the famous letter-day card and you have to go. And now where do I go? And if what they charge me there where I can, I won't give up with what I earn. What happens is that there are great interests there. And it's happening in the whole in Puerto Rico completely. And we are going to make this foreigner our own country. We have to move, ladies, because when the ones below move, the ones above fall. Come on, guys, talk less and eat calmly. Enjoy yourselves, you're visitors. I haven't eaten this in a long time. God bless this flavor. Amen. This is Puerto Rico. Puerto Rico But life here is not the same for everyone. There are those who come with advantages and benefits. And there are those who have been here all their lives and now they feel that they want to get away with it. They've been here all their lives, and now they feel like they want to take away from them and take away from them what belongs to them. But there are also those who created these conditions. And those who have the power to change them. I'm going to take a break. The The The They left this one hooked on the door. You must evict and hand over the installation's position within 30 days. Thank you for the time and we wish you the best. Maricuza arrived in Puerto Rico from its native Dominican Republic in the 90s. I clean, I cook, I wash, I iron, everything related to the house is mine because I like it and enjoy what I do. She has been renting an apartment in this building in Santurce. My daughter slept here with her little son, with Kristofer. But in May they gave him a letter telling him that he had to leave because the building had a new owner. I said, well, I'm going to leave, but when I get, well, I'm going to go, but when I get a place where I can stay with what is necessary and send that move. In a few words he said to me, well, since there are so many things you have here, throw them away. To pressure people to run away, I do it. to pressure people to run away. At least what I was paying wasn't enough to cover them. And I was making him lose money. Because if I pay 600 pesos, a crazy man appears who has given me 1,500. And he said, this was going to be rented at $2,500. The average income of a home in Puerto Rico is less than $1,800 a month. They are moving the boricua to make rich stamps through the native here. The new owner of the building where Maricuzza lives is a company that is dedicated to the purchase and sale of properties. And he is already reselling it for 1.5 million dollars. In the ad it says that it only accepts offers in cash and that tenants can leave in 30 days. It's an abuse. I'm 68 and there are people much older than me who have lived half their lives or half a century in that place, to be taken out of there, that hurts. This is the neighborhood where I was born, the little corner where I lived. From my great-grandmother, my great-grandmother, my grandmother, my mother, and this server were born here, and my children. I have always said that if I was born in Puerto de Tierra, I want to die in Puerto de Tierra. Puerto de Tierra is the entrance to the Isleta de San Juan. It's where the capital of Puerto Rico is located and it's next to the famous San Juan. If you notice, we're in front of the Bay of San Juan. And it's a privilege. This is a treasure for these rich millionaires. But this wasn't always a coveted place. Puerta de Tierra was where enslaved people lived after they obtained their freedom. Because the upper class wanted to keep them outside the walls of San Juan. Eventually, the Arrabales became public residences. But in the last two decades, the government of Puerto Rico has eliminated about 1,000 units of public housing for low-income families. This is the Las Acacias condominium, where I grew up. Public radio stations are the heart of Puerta de Tierra. If they don't take the land is gone. If they take out the public residences, the land is gone. I lived there for 54 years, I lived in that corner. Look what's there now. A building, a new farm, for rich people. Where I was born, where I can't enter. Because since we are black and poor, they are using us, you know? And it's not fair, it's not fair to be displaced And it's not fair, it's not fair to be displaced by the great interests of them who are interested in us leaving. No, no, if we are born here, let them go. Look at the only thing they have given us. We're not going to let them go. The only thing these millionaires have given us is the Duérmete Nene song. Duérmete niño Sleep, baby. Sleep, child, sleep now. Soon we'll take you out of your community. I lived around that corridor, at the end, to the right hand side. Laura Mía González lived in this private apartment building until in 2019 he received a letter announcing that the building had a new owner and had to be gone in 30 days. Well, at that time I felt frustrated, first because there were people who had been living there. When you've been living there for 30 years, you create relationships with the community. The building of the railway station was demolished. with the community. 21 families had to leave the building. You can't get here with a colonizing mentality, thinking that people don't live here. Or that the people who lived here, well, look, you can dispatch a eviction letter and get a place to live. Laura Mía paid $300 a month for her apartment. Today, the units of the railway building are rented short-term for $150 a night. Nobody is saying that he is not doing a good business. It's a business, look, it's round, and he doesn't pay any contributions. Puerto Rico, where I'm from, is becoming an increasingly popular place to move among wealthy Americans. It's the tax incentives that make Puerto Rico very appealing, specifically Act 22. And crucially, the island has become specifically Act 22. And crucially, the island has become a tax haven for the wealthy. In Puerto Rico, there is a law that allows foreigners not to pay certain taxes when they move here. It's called Law 22, which is now part of Law 60. And thanks to this law, when a person moves to Puerto Rico, they do not pay any taxes for the profits of their investments in things like shares, cryptocurrencies and real estate. Currently there are more than 3,000 people percent capital gains. Currently, there are more than 3,000 people benefiting from this law. That benefit, added to the low prices of properties after Hurricane Maria, for some it meant an opportunity. Puerto Rico! Puerto Rico is an absolute goldmine for real estate investing. Oh my gosh, the tax advantages. The real estate market. The new owner of the building is a beneficiary of law 22. Chaim Mayor Hassan has bought 15 properties in Puerta de Tierra, but he has not been the only one. Since 2018, eight beneficiaries of law 22 have bought at least 28 properties in the neighborhood well I tell you invaders colonizers because they behave as such. Of course, the government of Puerto Rico has put the country on a silver platter. Among the 28 properties that the beneficiaries of Law 22 bought, there is what used to be a public school. My school, this is where I learned to read. Here I used to play with Bicosí. Sixth grade, Miss Martínez, who was my aunt, my mother's sister, was in sixth grade. There, sixth grade. Martin G. Brumbaugh is one of more than 600 schools that the government of Puerto Rico has closed in the last ten years. No to the city! No to the city! No to the city! Now this school will be a building of apartments with a view of the sea. At the end of the classes, you could see the whales that were going to spawn. The kids would take us to watch that show. Every time I went by here, I feel like crying. I'm holding back my tears. Many of the properties that beneficiaries buy are for tourism. Some academics compare the economy of tourism with the economy of plantation. That the United States invaded and took possession of Puerto Rico at the end of the 19th century, allowing the companies to take over the land. They hired Puerto Ricans as their employees and paid them low wages that kept them in poverty. Today, Puerto Rico is still in possession of the United States and there is this incentive that gives advantages to Americans and invites them to buy properties in Puerto Rico. These properties often become tourist rental homes, with the promise of service employment for the local population. The result is an economic owner for the local population. The result is a foreign owner who covers the profits. Crispo Coco! Chucky, go, go! Chucky, go, go! Chucky, go, go! Chucky, go, go! In the law 20, in the law 20 and the law 22 will permit the gringos to come and be ruling protect our land. That attack, more from a racial point of view, as it has been done, or of race or class, is complicated. Simply with that gringo go-go, or all this kind of thing, it really doesn't work. all this kind of things, really does not benefit the political stability of the country. Rafael Tatito Hernández is one of the Puerto Rican politicians who has received donations from beneficiaries of law 22. In the last three years, beneficiaries have donated more than $240,000 to the governor's political campaigns and the leaders of the legislature of Puerto Rico. The governor received the great of the legislature of Puerto Rico, the governor received the vast majority of the money. I'm very passionate about the subject. I come from below and I know what it is like to come and walk to school and see the social situation of the communities and their disadvantages. But they can't stop the development. The biggest donor of the three main political figures is Brian Tenenbaum. You do Act 22, it's a no-brainer. The person who bought the school from the community of Puerta de Tierra. They see that the government is taking away resources to put them on silver platters for people who have a lot of money. Don't you see it that way? Yes, there is no doubt about it. to people who have a lot of money. Don't you see it that way? Yes, there's no doubt. The case of Puerta de Tierra is a case, if you analyze it and you've been able to see the community for many years, it's been off for over 40 years. So this is a way that they are renewing, in a way or another, an area that was really in a very bad situation, but it is still there. And this is a matter of supply and demand. Many of them are the same owners of the land. And this is a matter of supply and demand. Many of them are the same owners of the community that are selling these investors. But it's not just housing and schools. The other resource at stake in Puerto Rico are the beaches. The By law, all beaches in Puerto Rico are public, but there are those who believe that they are being taken away from the people, with construction, or closing access, as happened in the town of Dorado. Dorado has mansions and luxurious hotels by the sea. By law, there are supposed to be multiple accesses through those private land so that the public can reach this coast. But in recent years, those that were there closed. And now the only entrance is through the public swimming pool. If we want to get to the beach, we have to walk all that. All that. All that. There is no other access. Rosa Rivera Martinez works cleaning houses in Dorado Beach. But I think that where I live, She works cleaning houses in Dorado Beach. I think that where I work, I do a little more than cleaning. I give it a little bit of what is the taste of Puerto Rico. But on her days off, Rosa doesn't have easy access to the beach that her employees enjoy. On days when she's not working, if she wanted to go to that beach, how would she get there? She would have to go through here. Rosa and I started the long journey to try to get to this beach, called West Beach. There are people who say, but with so many beaches in Puerto Rico, why do they want to go to that one specifically? Because they are all ours. And it's not that we just want to say this is from the Puerto Ricans, we want to share it. On the way we found a little girl. of Puerto Ricans want to share it. On the way we met with employees of Dorado Beach who told us the same thing that the company later reiterated by writing that yes, the beach is public, but that to get there we had to walk on the rocks. How is it that I have to feel good when they tell me, yes, yes, you can pass, but you have to go through where you can and get beaten up. I mean, I get mortified by the fact You can be beaten up and beat up. I mean, it makes me feel like we're being treated as ignorant. Or as criminals, when those who are clearly breaking the law are them. Rosa and I walked 1.3 miles and crossed the first rocks. Yes, be careful there. No, I slipped and I got scared. But as we got closer, the road got more dangerous. I mean, the intention was to get to that beach, but I think it's better not to because it's too old. Access is so difficult that in practice West Beach becomes a private beach for those who buy one of these residences, which are for sale for up to 18 million dollars. The government entity that is called to defend the public, to defend the beaches, the parks, etc. is not doing it. Pedro Cardonas Roig works for the etc. is not doing it. Pedro Cardonas Roig worked at the government agency that decides how the land is used in Puerto Rico. He says that in Dorado they built on land that belongs to the people, because according to the regulation, the 20 meters of land after the highest tide are public. And those rocks are inside the area that is affected by the tide. The sargassum is coming. the area that is affected by the tide. The sargassum is reaching right up to the rocks. So if right now I climb up those rocks and I stand there and they tell me you can't be here because it's private property, but that's not true. Correct. That is supposed to be part of the public property. Correct. Why is this not fulfilled? Was your question. I think the main reason is the power that certain people have in Puerto Rico. The company that built and is the co of Dorado Beach is called Prisa Group. In the last decade, the Prisa Group executives have donated more than half a million dollars to the political campaigns of the two main parties in Puerto Rico. Of those, more than $200,000 was donated by the company's president, Federico Stube Arzuaga. In effect, things turned around and the 22nd law was eliminated and that incentive was removed for the rich and millionaires, what would happen to the economy in Puerto Rico? We are going to have a great ghetto in Puerto Rico. Puerto Rico. Puerto Rico for the incentives. Up, down, down with your But the fight for the beaches is not only happening in Dorado. A pool in front of a beach. What is the need for that? Invading the habitat of turtles. This is me before the eyes of God, Corille. What belongs to us The condominium Sol y Playa said, I don't care if this is from the town of Puerto Rico, I don't care if this is from the town of Puerto Rico, I don't care if this is from the people of Puerto Rico, I want this for myself. And I'm going to make a pool there and I'm going to put up a fence. The protests started. And the government sent the police. The protesters prevented the construction of the construction. He went out to relight with a cousin of the governor, Pedro Pierluisi, who owned one of the apartments. Pedro Pierluisi, the governor of the apartments. First of all, you're talking about a third or fourth cousin of mine. The case was in court. The court determined that the construction permit was illegal and ordered the demolition of the verja. When the owners did not do it, the protesters took charge. I don't want to leave here. No one wants to leave here. I don't want to leave here. Nobody can stop us! Just like they did in Rincon, they say they will resist in Puerta de Tierra they say they will resist. Because if we don't fight now, and we don't join forces to fight for our neighborhood, not only Puerta de Tierra, but the whole island. Here, the resistance will last until the heart can take it. What do I mean by that?\""
      ]
     },
     "execution_count": 18,
     "metadata": {},
     "output_type": "execute_result"
    }
   ],
   "source": [
    "import json\n",
    "\n",
    "start_one, end_one = 54.67, 99.33\n",
    "start_two, end_two = 270.67, 1297.33\n",
    "\n",
    "raw_text_path = './api/db/7e7fe030-02c7-4481-b1de-b2b607847d7f/results.json'\n",
    "result = json.load(open(raw_text_path, 'r')).get('result', {})\n",
    "\n",
    "text = 'summarize: '\n",
    "\n",
    "for chunk in result.get('chunks', []):\n",
    "    timestamp = chunk['timestamp']\n",
    "    if timestamp[0] > start_one and timestamp[1] < end_one:\n",
    "        text += chunk['text']\n",
    "    if timestamp[0] > start_two and timestamp[1] < end_two:\n",
    "        text += chunk['text']\n",
    "    \n",
    "text\n"
   ]
  },
  {
   "cell_type": "code",
   "execution_count": 26,
   "metadata": {},
   "outputs": [
    {
     "name": "stderr",
     "output_type": "stream",
     "text": [
      "Token indices sequence length is longer than the specified maximum sequence length for this model (4119 > 512). Running this sequence through the model will result in indexing errors\n"
     ]
    },
    {
     "data": {
      "text/plain": [
       "torch.Size([1, 4119])"
      ]
     },
     "execution_count": 26,
     "metadata": {},
     "output_type": "execute_result"
    }
   ],
   "source": [
    "from transformers import AutoTokenizer\n",
    "\n",
    "tokenizer = AutoTokenizer.from_pretrained(\"t5-small\")\n",
    "inputs = tokenizer(text, return_tensors=\"pt\").input_ids\n",
    "inputs.shape"
   ]
  },
  {
   "cell_type": "code",
   "execution_count": 47,
   "metadata": {},
   "outputs": [],
   "source": [
    "from transformers import AutoModelForSeq2SeqLM\n",
    "\n",
    "model = AutoModelForSeq2SeqLM.from_pretrained(\"t5-small\")\n",
    "outputs = model.generate(inputs, max_new_tokens=1500, min_length=1, do_sample=True)"
   ]
  },
  {
   "cell_type": "code",
   "execution_count": 48,
   "metadata": {},
   "outputs": [
    {
     "data": {
      "text/plain": [
       "'mayor was born in dorado, and told a friend of her mother to come to town. the company is part of a law banning property at the back of the wall. it wants other people to benefit financially from it, a person from the north. meanwhile, a man who bought land on the beach can use it to live there.'"
      ]
     },
     "execution_count": 48,
     "metadata": {},
     "output_type": "execute_result"
    }
   ],
   "source": [
    "tokenizer.decode(outputs[0], skip_special_tokens=True)"
   ]
  },
  {
   "cell_type": "code",
   "execution_count": null,
   "metadata": {},
   "outputs": [],
   "source": []
  }
 ],
 "metadata": {
  "kernelspec": {
   "display_name": ".venv",
   "language": "python",
   "name": "python3"
  },
  "language_info": {
   "codemirror_mode": {
    "name": "ipython",
    "version": 3
   },
   "file_extension": ".py",
   "mimetype": "text/x-python",
   "name": "python",
   "nbconvert_exporter": "python",
   "pygments_lexer": "ipython3",
   "version": "3.11.3"
  },
  "orig_nbformat": 4
 },
 "nbformat": 4,
 "nbformat_minor": 2
}
